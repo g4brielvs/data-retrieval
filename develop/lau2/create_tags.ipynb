{
 "cells": [
  {
   "cell_type": "markdown",
   "metadata": {},
   "source": [
    "# lau2"
   ]
  },
  {
   "cell_type": "markdown",
   "metadata": {},
   "source": [
    "The first step of the script is creating a JSON to keep the taxonomy centralized and up-to-date."
   ]
  },
  {
   "cell_type": "markdown",
   "metadata": {},
   "source": [
    "## Tags"
   ]
  },
  {
   "cell_type": "code",
   "execution_count": 14,
   "metadata": {},
   "outputs": [],
   "source": [
    "import json\n",
    "import os\n",
    "\n",
    "def create(src, first_row=5, last_row):\n",
    "    \"\"\"\n",
    "    Creates a dictionary of tags from the provided information\n",
    "\n",
    "    Args:\n",
    "        src (str): path of source\n",
    "        first_row (int): first row to read\n",
    "        last_row (int): last row to read\n",
    "    \"\"\"\n",
    "\n",
    "    with open(src, mode='r', encoding='utf-16') as f:\n",
    "        content = f.readlines()[first_row:last_row]\n",
    "\n",
    "    # Creates a dict using the second column as key and the rest as value\n",
    "    data = dict([(line.split()[1], line.split()[2:]) for line in content])\n",
    "\n",
    "    return data\n",
    "\n",
    "\n",
    "def dump(dst, data):\n",
    "    \"\"\"\n",
    "    Dumps a dictionary of tags into a JSON\n",
    "\n",
    "    Args:\n",
    "        dst (str): path of destination\n",
    "        data (dict): dictionary of tags\n",
    "    \"\"\"\n",
    "    try:\n",
    "        with open(os.path.join(dst, 'tags.json'), mode='w+', encoding='utf-8') as f:\n",
    "            json.dump(data, f)\n",
    "            print('Tags successfully exported! \\u2714')\n",
    "    except Exception as e:\n",
    "        raise e"
   ]
  },
  {
   "cell_type": "code",
   "execution_count": 13,
   "metadata": {},
   "outputs": [],
   "source": [
    "SRC = '/Users/g4brielvs/Dropbox/Workspace/DATA_2017/z_data-structure_20171204.txt'\n",
    "\n",
    "tags = create(SRC)"
   ]
  }
 ],
 "metadata": {
  "kernelspec": {
   "display_name": "Python 3",
   "language": "python",
   "name": "python3"
  },
  "language_info": {
   "codemirror_mode": {
    "name": "ipython",
    "version": 3
   },
   "file_extension": ".py",
   "mimetype": "text/x-python",
   "name": "python",
   "nbconvert_exporter": "python",
   "pygments_lexer": "ipython3",
   "version": "3.6.2"
  }
 },
 "nbformat": 4,
 "nbformat_minor": 2
}
