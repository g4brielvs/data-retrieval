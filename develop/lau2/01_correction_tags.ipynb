{
 "cells": [
  {
   "cell_type": "markdown",
   "metadata": {},
   "source": [
    "# lau2"
   ]
  },
  {
   "cell_type": "markdown",
   "metadata": {},
   "source": [
    "This script copies the CSVs into the destination using valid filename from tag substitutions "
   ]
  },
  {
   "cell_type": "code",
   "execution_count": 1,
   "metadata": {},
   "outputs": [],
   "source": [
    "import csv\n",
    "import glob\n",
    "import json\n",
    "import os\n",
    "import shutil\n",
    "\n",
    "from collections import OrderedDict"
   ]
  },
  {
   "cell_type": "code",
   "execution_count": 9,
   "metadata": {},
   "outputs": [],
   "source": [
    "class Tag(object):\n",
    "    \"\"\"\n",
    "    Tag constains information about:\n",
    "        - position (or index) in filename\n",
    "        - valid tag (or tag)\n",
    "        - valid value (or value) after correction dictionary\n",
    "    \"\"\"\n",
    "    def __init__(self, index, value):\n",
    "        self.index = index\n",
    "        self.tag = self._get_valid_tag(index)\n",
    "        self.value = self._get_valid_value(value)\n",
    "\n",
    "    def __str__(self):\n",
    "        return self.value\n",
    "\n",
    "    def __repr__(self):\n",
    "        return \"{} : {}\".format(self.tag, self.value)\n",
    "\n",
    "    @staticmethod\n",
    "    def get_tags_from_file(filename='tags.json'):\n",
    "        with open(filename) as f:\n",
    "            data = json.load(f, object_pairs_hook=OrderedDict)\n",
    "\n",
    "        return list(data.keys())\n",
    "\n",
    "    @staticmethod\n",
    "    def get_corrections_from_file(filename='tags.json'):\n",
    "        with open(filename) as f:\n",
    "            data = json.load(f, object_pairs_hook=OrderedDict)\n",
    "\n",
    "        corrections = OrderedDict()\n",
    "        for k, v in data.items():\n",
    "            # get the last four characters as key\n",
    "            corrections[k] = OrderedDict(zip(map(lambda x: x[-4:], v), v))\n",
    "        return corrections\n",
    "\n",
    "    @staticmethod\n",
    "    def dump_corrections(filename='corretions.json'):\n",
    "        data = Tag.get_corrections_from_file()\n",
    "\n",
    "        with open(filename, mode='w+', encoding='utf-8') as f:\n",
    "            json.dump(data, f)\n",
    "\n",
    "    def _get_valid_tag(self, index):\n",
    "        try:\n",
    "            tag = Tag.get_tags_from_file()[index]\n",
    "        except IndexError:\n",
    "            tag = None\n",
    "\n",
    "        return tag\n",
    "\n",
    "    def _get_valid_value(self, value):\n",
    "        try:\n",
    "            corrections = Tag.get_corrections_from_file().get(self.tag)\n",
    "            # get the last four characters as key\n",
    "            return corrections.get(value[-4:], '00-n')\n",
    "        except TypeError:\n",
    "            return '00-n'"
   ]
  },
  {
   "cell_type": "code",
   "execution_count": 3,
   "metadata": {},
   "outputs": [],
   "source": [
    "def get_valid_filename(filename):\n",
    "    \"\"\"\n",
    "    Checks and apply corrections in order on tags in filename\n",
    "\n",
    "    Args:\n",
    "        file (str): pathname\n",
    "    \"\"\"\n",
    "    (name, extension) = os.path.splitext(filename)\n",
    "\n",
    "    tags_in_filename = name.strip().split('_')\n",
    "    tags = list()\n",
    "\n",
    "    for i, item in enumerate(Tag.get_tags_from_file()):\n",
    "        try:\n",
    "            item_in_title = tags_in_filename[i]\n",
    "        except IndexError:\n",
    "            item_in_title = None\n",
    "\n",
    "        tags.append(Tag(i, item_in_title))\n",
    "\n",
    "    return '_'.join(map(str, tags)) + extension"
   ]
  },
  {
   "cell_type": "code",
   "execution_count": 4,
   "metadata": {},
   "outputs": [],
   "source": [
    "def track_corrections(dst, filename):\n",
    "    \"\"\"\n",
    "    Keeps track of corrections in the filename\n",
    "\n",
    "    Args:\n",
    "        dst (str): path to destination\n",
    "    \"\"\"\n",
    "    new_filename = validate(filename)\n",
    "    row = [filename, new_filename, filename == new_filename]\n",
    "\n",
    "    with open(os.path.join(dst, 'corrections.csv'), 'a', newline='') as f:\n",
    "        writer = csv.writer(f)\n",
    "        writer.writerow(row)\n",
    "\n",
    "\n",
    "def check(src, dst):\n",
    "    \"\"\"\n",
    "    Checks source for filenames and makes a valid copy into destination\n",
    "\n",
    "    Args:\n",
    "        src (str): path to source\n",
    "        dst (str): path to destination\n",
    "    \"\"\"\n",
    "    for pathname in glob.iglob(os.path.join(src, '**/*.csv'), recursive=True):\n",
    "        (dirname, filename) = os.path.split(pathname)\n",
    "\n",
    "        try:\n",
    "            valid_filename = get_valid_filename(filename)\n",
    "            #track_corrections(dst, filename)\n",
    "\n",
    "            new_dst = os.path.join(dst, os.path.basename(dirname))\n",
    "            new_file = os.path.join(new_dst, valid_filename)\n",
    "            os.makedirs(new_dst, exist_ok=True)\n",
    "            shutil.copy(pathname, new_file)\n",
    "\n",
    "        except Exception as e:\n",
    "            raise e\n",
    "\n",
    "    # Just for the UX friendliness\n",
    "    print('All files were checked! \\u2714')"
   ]
  },
  {
   "cell_type": "code",
   "execution_count": 12,
   "metadata": {},
   "outputs": [
    {
     "name": "stdout",
     "output_type": "stream",
     "text": [
      "All files were checked! ✔\n"
     ]
    }
   ],
   "source": [
    "SRC = '/Users/g4brielvs/Dropbox/Workspace/DATA_2017/lau2_hours-select/'\n",
    "DST = '/Users/g4brielvs/Desktop/DEST/'\n",
    "\n",
    "check(SRC, DST)"
   ]
  },
  {
   "cell_type": "code",
   "execution_count": 13,
   "metadata": {},
   "outputs": [
    {
     "name": "stdout",
     "output_type": "stream",
     "text": [
      "All files were checked! ✔\n"
     ]
    }
   ],
   "source": [
    "SRC = '/Users/g4brielvs/Dropbox/Workspace/DATA_2017/lau2_days-select/'\n",
    "DST = '/Users/g4brielvs/Desktop/DEST/'\n",
    "\n",
    "check(SRC, DST)"
   ]
  },
  {
   "cell_type": "code",
   "execution_count": null,
   "metadata": {},
   "outputs": [],
   "source": []
  }
 ],
 "metadata": {
  "kernelspec": {
   "display_name": "Python 3",
   "language": "python",
   "name": "python3"
  },
  "language_info": {
   "codemirror_mode": {
    "name": "ipython",
    "version": 3
   },
   "file_extension": ".py",
   "mimetype": "text/x-python",
   "name": "python",
   "nbconvert_exporter": "python",
   "pygments_lexer": "ipython3",
   "version": "3.6.2"
  }
 },
 "nbformat": 4,
 "nbformat_minor": 2
}
