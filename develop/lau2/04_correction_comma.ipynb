{
 "cells": [
  {
   "cell_type": "code",
   "execution_count": 4,
   "metadata": {},
   "outputs": [],
   "source": [
    "import os \n",
    "\n",
    "import glob \n",
    "import pandas as pd"
   ]
  },
  {
   "cell_type": "markdown",
   "metadata": {},
   "source": [
    "# Mobility Data Retrieval"
   ]
  },
  {
   "cell_type": "code",
   "execution_count": 1,
   "metadata": {},
   "outputs": [],
   "source": [
    "SRC_HEADER = '/Users/g4brielvs/Dropbox/Workspace/DATA_2017/z_head_day_cz_20170804.csv'\n",
    "\n",
    "SRC = '/Users/g4brielvs/Desktop/DATA/'\n",
    "DST = '/Users/g4brielvs/Desktop/DEST/'"
   ]
  },
  {
   "cell_type": "markdown",
   "metadata": {},
   "source": [
    "## Reading headers and transformations"
   ]
  },
  {
   "cell_type": "code",
   "execution_count": 2,
   "metadata": {},
   "outputs": [],
   "source": [
    "def get_header(src):\n",
    "    \"\"\"\n",
    "    Creates a lists of columns from a file\n",
    "\n",
    "    Args:\n",
    "        src (str): path of source\n",
    "    \"\"\"\n",
    "    with open(src, mode='r') as f:\n",
    "        content = f.readline()\n",
    "        return content.strip().split(sep=';')\n",
    "    \n",
    "header = get_header(SRC_HEADER)"
   ]
  },
  {
   "cell_type": "code",
   "execution_count": 8,
   "metadata": {},
   "outputs": [],
   "source": [
    "for pathname in glob.iglob(os.path.join(SRC, '**/*.csv'), recursive=True):\n",
    "        (dirname, filename) = os.path.split(pathname)\n",
    "\n",
    "        df = pd.read_csv(pathname, sep=';', header=None, names=header)        \n",
    "        df.to_csv(os.path.join(DST, filename), sep=',', header=False, index=False, encoding='utf-8', date_format='%Y-%m-%d')"
   ]
  },
  {
   "cell_type": "code",
   "execution_count": null,
   "metadata": {},
   "outputs": [],
   "source": []
  }
 ],
 "metadata": {
  "kernelspec": {
   "display_name": "Python 3",
   "language": "python",
   "name": "python3"
  },
  "language_info": {
   "codemirror_mode": {
    "name": "ipython",
    "version": 3
   },
   "file_extension": ".py",
   "mimetype": "text/x-python",
   "name": "python",
   "nbconvert_exporter": "python",
   "pygments_lexer": "ipython3",
   "version": "3.6.2"
  }
 },
 "nbformat": 4,
 "nbformat_minor": 2
}
