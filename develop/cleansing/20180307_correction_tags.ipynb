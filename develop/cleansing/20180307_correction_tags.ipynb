{
 "cells": [
  {
   "cell_type": "markdown",
   "metadata": {},
   "source": [
    "# dataPOP"
   ]
  },
  {
   "cell_type": "markdown",
   "metadata": {},
   "source": [
    "The first step of the script is creating a JSON to keep the taxonomy centralized and up-to-date."
   ]
  },
  {
   "cell_type": "code",
   "execution_count": 1,
   "metadata": {},
   "outputs": [],
   "source": [
    "import glob\n",
    "import json \n",
    "import os\n",
    "import shutil\n",
    "\n",
    "import pandas as pd\n",
    "\n",
    "from collections import OrderedDict"
   ]
  },
  {
   "cell_type": "code",
   "execution_count": 2,
   "metadata": {},
   "outputs": [],
   "source": [
    "def get_column(src, column=1):\n",
    "    return list(pd.read_csv(src, sep=',', header='infer', converters={'intID': lambda x: str(x)}, encoding='cp1252').iloc[:, column])\n",
    "\n",
    "def get_header(src):\n",
    "    df = pd.read_csv(src, sep=',', header='infer', encoding='cp1252')\n",
    "    return list(df.columns.values)"
   ]
  },
  {
   "cell_type": "code",
   "execution_count": 6,
   "metadata": {},
   "outputs": [
    {
     "data": {
      "text/plain": [
       "['dataSource',\n",
       " 'graphType',\n",
       " 'graphDetail',\n",
       " 'spacialAggregation',\n",
       " 'temporalAggregation',\n",
       " 'userTclass',\n",
       " 'trajectoryTimeDefinitionPoint',\n",
       " 'fixedRoute',\n",
       " 'calculationMethod',\n",
       " 'statistics',\n",
       " 'statisticsDetail',\n",
       " 'transportMode',\n",
       " 'demographyGender',\n",
       " 'demographyAge',\n",
       " 'dataDetail',\n",
       " 'controlSum']"
      ]
     },
     "execution_count": 6,
     "metadata": {},
     "output_type": "execute_result"
    }
   ],
   "source": [
    "SRC = '/Users/g4brielvs/Dropbox/Workspace/Names/n_tertiaryData_structure_20180220.csv'\n",
    "\n",
    "NAMES = get_column(SRC, 1)\n",
    "NAMES"
   ]
  },
  {
   "cell_type": "code",
   "execution_count": null,
   "metadata": {},
   "outputs": [],
   "source": [
    "def filter_taxonomy(data=dict(), names={}):   \n",
    "    \"\"\"\n",
    "    Filter taxonomy using tag names\n",
    "\n",
    "    Args:\n",
    "        data (dict): taxonomy\n",
    "    \"\"\"\n",
    "    return dict(filter(lambda i:i[1].get('nameSeq') in names, data.items()))\n",
    "\n",
    "def get_tags_from_taxonomy(data=dict()):\n",
    "    \"\"\"\n",
    "    Get list of tags from taxonomy\n",
    "\n",
    "    Args:\n",
    "        data (dict): taxonomy\n",
    "    \"\"\"\n",
    "    return list(data.keys())\n",
    "\n",
    "def get_text_from_taxonomy(data=dict(), tag=None, descriptor='id'):\n",
    "    return data.get(tag).get(descriptor)    "
   ]
  },
  {
   "cell_type": "markdown",
   "metadata": {},
   "source": [
    "## Taxonomy"
   ]
  },
  {
   "cell_type": "code",
   "execution_count": null,
   "metadata": {},
   "outputs": [],
   "source": [
    "def get_taxonomy_from_file(src):\n",
    "\n",
    "    data = OrderedDict()\n",
    "    df = pd.read_csv(src, sep=',', converters={'intID': lambda x: str(x)}, encoding='cp1252')\n",
    "\n",
    "    for _, row in df.iterrows(): \n",
    "        data[row['intID']] = OrderedDict(((i, row[i]) for i in HEADER))\n",
    "        \n",
    "    return data"
   ]
  },
  {
   "cell_type": "code",
   "execution_count": 1,
   "metadata": {},
   "outputs": [
    {
     "ename": "NameError",
     "evalue": "name 'get_header' is not defined",
     "output_type": "error",
     "traceback": [
      "\u001b[0;31m---------------------------------------------------------------------------\u001b[0m",
      "\u001b[0;31mNameError\u001b[0m                                 Traceback (most recent call last)",
      "\u001b[0;32m<ipython-input-1-fa118992c503>\u001b[0m in \u001b[0;36m<module>\u001b[0;34m()\u001b[0m\n\u001b[1;32m      1\u001b[0m \u001b[0mSRC\u001b[0m \u001b[0;34m=\u001b[0m \u001b[0;34m'/Users/g4brielvs/Dropbox/Workspace/Names/04-nam_tertiaryData_20180307.csv'\u001b[0m\u001b[0;34m\u001b[0m\u001b[0m\n\u001b[1;32m      2\u001b[0m \u001b[0;34m\u001b[0m\u001b[0m\n\u001b[0;32m----> 3\u001b[0;31m \u001b[0mHEADER\u001b[0m \u001b[0;34m=\u001b[0m \u001b[0mget_header\u001b[0m\u001b[0;34m(\u001b[0m\u001b[0mSRC\u001b[0m\u001b[0;34m)\u001b[0m\u001b[0;34m\u001b[0m\u001b[0m\n\u001b[0m\u001b[1;32m      4\u001b[0m \u001b[0mHEADER\u001b[0m\u001b[0;34m\u001b[0m\u001b[0m\n",
      "\u001b[0;31mNameError\u001b[0m: name 'get_header' is not defined"
     ]
    }
   ],
   "source": [
    "SRC = '/Users/g4brielvs/Dropbox/Workspace/Names/04-nam_tertiaryData_20180307.csv'\n",
    "\n",
    "HEADER = get_header(SRC)\n",
    "HEADER"
   ]
  },
  {
   "cell_type": "code",
   "execution_count": null,
   "metadata": {},
   "outputs": [],
   "source": [
    "SRC = '/Users/g4brielvs/Dropbox/Workspace/Names/04-nam_tertiaryData_20180307.csv'\n",
    "\n",
    "tax = get_taxonomy_from_file(SRC)"
   ]
  },
  {
   "cell_type": "code",
   "execution_count": null,
   "metadata": {},
   "outputs": [],
   "source": [
    "try:\n",
    "    with open('taxonomy.json', mode='w+', encoding='utf-8') as f:\n",
    "        json.dump(tax, f)\n",
    "        print('Taxonomy successfully exported! \\u2714')\n",
    "except Exception as e:\n",
    "    raise e"
   ]
  },
  {
   "cell_type": "markdown",
   "metadata": {},
   "source": [
    "## Tags"
   ]
  },
  {
   "cell_type": "code",
   "execution_count": null,
   "metadata": {},
   "outputs": [],
   "source": [
    "with open('taxonomy.json') as f:\n",
    "    data = json.load(f, object_pairs_hook=OrderedDict)"
   ]
  },
  {
   "cell_type": "code",
   "execution_count": null,
   "metadata": {},
   "outputs": [],
   "source": [
    "tags = OrderedDict()\n",
    "\n",
    "for i, v in enumerate(NAMES, 1):\n",
    "        \n",
    "    l = get_tags_from_taxonomy(filter_taxonomy(data, {i}))\n",
    "    tags[v] = l"
   ]
  },
  {
   "cell_type": "code",
   "execution_count": 66,
   "metadata": {},
   "outputs": [],
   "source": [
    "tags = get_tags_from_taxonomy(tax)\n",
    "tags.sort(key=lambda x: int(x))"
   ]
  },
  {
   "cell_type": "code",
   "execution_count": null,
   "metadata": {},
   "outputs": [],
   "source": [
    "with open('tags.json', mode='w+', encoding='utf-8') as f:\n",
    "    json.dump(tags, f)"
   ]
  },
  {
   "cell_type": "markdown",
   "metadata": {},
   "source": [
    "## Corrections "
   ]
  },
  {
   "cell_type": "code",
   "execution_count": 62,
   "metadata": {},
   "outputs": [],
   "source": [
    "corrections = list()\n",
    "\n",
    "for i, v in enumerate(NAMES, 1):\n",
    "    \n",
    "    tags = get_tags_from_taxonomy(filter_taxonomy(data, {i}))\n",
    "    \n",
    "    corrections.append(OrderedDict(zip(map(lambda x: x[-3:], tags), tags)))"
   ]
  },
  {
   "cell_type": "code",
   "execution_count": 105,
   "metadata": {},
   "outputs": [],
   "source": [
    "corrections = list()\n",
    "\n",
    "for i, v in enumerate(NAMES, 1):\n",
    "    \n",
    "    tags = get_tags_from_taxonomy(filter_taxonomy(data, {i}))"
   ]
  },
  {
   "cell_type": "code",
   "execution_count": null,
   "metadata": {},
   "outputs": [],
   "source": [
    "corrections = OrderedDict()\n",
    "\n",
    "for i, tag in enumerate(tags, 1):\n",
    "    \n",
    "    txID = tax.get(tag).get('txID')\n",
    "    \n",
    "    corrections[txID] = txID[-4:]"
   ]
  },
  {
   "cell_type": "code",
   "execution_count": null,
   "metadata": {},
   "outputs": [],
   "source": [
    "try:\n",
    "    with open('corrections.json', mode='w+', encoding='utf-8') as f:\n",
    "        json.dump(corrections, f)\n",
    "        print('Corrections successfully exported! \\u2714')\n",
    "except Exception as e:\n",
    "    raise e"
   ]
  },
  {
   "cell_type": "markdown",
   "metadata": {},
   "source": [
    "## New renaming"
   ]
  },
  {
   "cell_type": "code",
   "execution_count": 120,
   "metadata": {},
   "outputs": [],
   "source": [
    "def get_valid_filename(filename):\n",
    "    \"\"\"\n",
    "    Checks and apply corrections in order on tags in filename\n",
    "\n",
    "    Args:\n",
    "        file (str): pathname\n",
    "    \"\"\"\n",
    "\n",
    "    (name, extension) = os.path.splitext(filename)\n",
    "\n",
    "    tags_in_filename = name.strip().split('_')\n",
    "    tags = list()\n",
    "    \n",
    "    for i, item in enumerate(NAMES):\n",
    "        try:\n",
    "            item_in_title = tags_in_filename[i]\n",
    "            \n",
    "            if item_in_title[:4] == '00-n':\n",
    "                item_in_title = '{:02}99-na'.format(i + 1)\n",
    "            \n",
    "        except IndexError:\n",
    "            item_in_title = '1699-na'\n",
    "        \n",
    "        tags.append(item_in_title)\n",
    "    \n",
    "    return '_'.join(map(str, tags)) + extension"
   ]
  },
  {
   "cell_type": "code",
   "execution_count": 121,
   "metadata": {},
   "outputs": [],
   "source": [
    "def check(src, dst):\n",
    "    \"\"\"\n",
    "    Checks source for filenames and makes a valid copy into destination\n",
    "\n",
    "    Args:\n",
    "        src (str): path to source\n",
    "        dst (str): path to destination\n",
    "    \"\"\"\n",
    "    for pathname in glob.iglob(os.path.join(src, '**/*.csv'), recursive=True):\n",
    "        (dirname, filename) = os.path.split(pathname)\n",
    "\n",
    "        try:\n",
    "            new_filename = get_valid_filename(filename)\n",
    "\n",
    "            #new_dst = os.path.join(dst, os.path.basename(dirname))\n",
    "            new_dst = dst\n",
    "            new_file = os.path.join(new_dst, new_filename)\n",
    "            os.makedirs(new_dst, exist_ok=True)\n",
    "            shutil.copy(pathname, new_file)\n",
    "\n",
    "        except Exception as e:\n",
    "            raise e"
   ]
  },
  {
   "cell_type": "markdown",
   "metadata": {},
   "source": [
    "## Validation"
   ]
  },
  {
   "cell_type": "code",
   "execution_count": 123,
   "metadata": {},
   "outputs": [],
   "source": [
    "SRC = '/Users/g4brielvs/Desktop/DATA/'\n",
    "DST = '/Users/g4brielvs/Desktop/DEST/'\n",
    "\n",
    "check(SRC, DST)"
   ]
  },
  {
   "cell_type": "code",
   "execution_count": null,
   "metadata": {},
   "outputs": [],
   "source": []
  }
 ],
 "metadata": {
  "kernelspec": {
   "display_name": "Python 3",
   "language": "python",
   "name": "python3"
  },
  "language_info": {
   "codemirror_mode": {
    "name": "ipython",
    "version": 3
   },
   "file_extension": ".py",
   "mimetype": "text/x-python",
   "name": "python",
   "nbconvert_exporter": "python",
   "pygments_lexer": "ipython3",
   "version": "3.6.2"
  }
 },
 "nbformat": 4,
 "nbformat_minor": 2
}
