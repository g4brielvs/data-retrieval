{
 "cells": [
  {
   "cell_type": "markdown",
   "metadata": {},
   "source": [
    "# dataPOP"
   ]
  },
  {
   "cell_type": "markdown",
   "metadata": {},
   "source": [
    "The first step of the script is creating a JSON to keep the taxonomy centralized and up-to-date."
   ]
  },
  {
   "cell_type": "code",
   "execution_count": 3,
   "metadata": {},
   "outputs": [],
   "source": [
    "import json \n",
    "\n",
    "import pandas as pd\n",
    "\n",
    "from collections import OrderedDict"
   ]
  },
  {
   "cell_type": "code",
   "execution_count": 1,
   "metadata": {},
   "outputs": [],
   "source": [
    "def get_column(src, column=1):\n",
    "    return list(pd.read_csv(src, sep=',', header='infer').iloc[:, column])"
   ]
  },
  {
   "cell_type": "code",
   "execution_count": 4,
   "metadata": {},
   "outputs": [],
   "source": [
    "SRC = 'n_tertiaryData_structure_20180220.csv'\n",
    "\n",
    "NAMES = get_column(SRC)\n",
    "\n",
    "HEADER = ['nameSeq', 'id', 'fullEN', 'shortEN', 'inWritingCZ', 'abrevCZ', 'descriptiveCZ', 'descriptiveEN']"
   ]
  },
  {
   "cell_type": "code",
   "execution_count": 5,
   "metadata": {},
   "outputs": [],
   "source": [
    "def filter_taxonomy(data=dict(), names={}):   \n",
    "    \"\"\"\n",
    "    Filter taxonomy using tag names\n",
    "\n",
    "    Args:\n",
    "        data (dict): taxonomy\n",
    "    \"\"\"\n",
    "    return dict(filter(lambda i:i[1].get('nameSeq') in names, data.items()))\n",
    "\n",
    "def get_tags_from_taxonomy(data=dict()):\n",
    "    \"\"\"\n",
    "    Get list of tags from taxonomy\n",
    "\n",
    "    Args:\n",
    "        data (dict): taxonomy\n",
    "    \"\"\"\n",
    "    return list(data.keys())\n",
    "\n",
    "def get_text_from_taxonomy(data=dict(), tag=None, descriptor='id'):\n",
    "    return data.get(tag).get(descriptor)    "
   ]
  },
  {
   "cell_type": "markdown",
   "metadata": {},
   "source": [
    "## Taxonomy"
   ]
  },
  {
   "cell_type": "code",
   "execution_count": 6,
   "metadata": {},
   "outputs": [],
   "source": [
    "SRC = 'n_tertiaryData_content_20180220.csv'\n",
    "\n",
    "data = OrderedDict()\n",
    "\n",
    "df = pd.read_csv(SRC, sep=',')\n",
    "\n",
    "for _, row in df.iterrows():    \n",
    "    data[row['id']] = OrderedDict(((i, row[i]) for i in HEADER))"
   ]
  },
  {
   "cell_type": "code",
   "execution_count": 7,
   "metadata": {},
   "outputs": [
    {
     "name": "stdout",
     "output_type": "stream",
     "text": [
      "Taxonomy successfully exported! ✔\n"
     ]
    }
   ],
   "source": [
    "try:\n",
    "    with open('taxonomy.json', mode='w+', encoding='utf-8') as f:\n",
    "        json.dump(data, f)\n",
    "        print('Taxonomy successfully exported! \\u2714')\n",
    "except Exception as e:\n",
    "    raise e"
   ]
  },
  {
   "cell_type": "markdown",
   "metadata": {},
   "source": [
    "## Tags"
   ]
  },
  {
   "cell_type": "code",
   "execution_count": 12,
   "metadata": {},
   "outputs": [],
   "source": [
    "with open('taxonomy.json') as f:\n",
    "    data = json.load(f, object_pairs_hook=OrderedDict)"
   ]
  },
  {
   "cell_type": "code",
   "execution_count": 13,
   "metadata": {},
   "outputs": [],
   "source": [
    "tags = OrderedDict()\n",
    "\n",
    "for i, v in enumerate(NAMES, 1):\n",
    "        \n",
    "    l = get_tags_from_taxonomy(filter_taxonomy(data, {i}))\n",
    "    tags[v] = l"
   ]
  },
  {
   "cell_type": "code",
   "execution_count": 15,
   "metadata": {},
   "outputs": [],
   "source": [
    "with open('tags.json', mode='w+', encoding='utf-8') as f:\n",
    "    json.dump(tags, f)"
   ]
  },
  {
   "cell_type": "markdown",
   "metadata": {},
   "source": [
    "## Corrections "
   ]
  },
  {
   "cell_type": "code",
   "execution_count": 16,
   "metadata": {},
   "outputs": [],
   "source": [
    "corrections = OrderedDict()\n",
    "\n",
    "for i, v in enumerate(NAMES, 1):\n",
    "    tag = get_tags_from_taxonomy(filter_taxonomy(data, {i}))\n",
    "    corrections[v] = OrderedDict(zip(map(lambda x: x[-4:], tag), tag))"
   ]
  },
  {
   "cell_type": "code",
   "execution_count": 17,
   "metadata": {},
   "outputs": [
    {
     "name": "stdout",
     "output_type": "stream",
     "text": [
      "Corrections successfully exported! ✔\n"
     ]
    }
   ],
   "source": [
    "try:\n",
    "    with open('corrections.json', mode='w+', encoding='utf-8') as f:\n",
    "        json.dump(corrections, f)\n",
    "        print('Corrections successfully exported! \\u2714')\n",
    "except Exception as e:\n",
    "    raise e"
   ]
  },
  {
   "cell_type": "markdown",
   "metadata": {},
   "source": [
    "## Validation"
   ]
  },
  {
   "cell_type": "code",
   "execution_count": 24,
   "metadata": {},
   "outputs": [],
   "source": [
    "SRC = '/Users/g4brielvs/Desktop/DATA/dataPOP/'\n",
    "DST = '/Users/g4brielvs/Desktop/DEST/'"
   ]
  },
  {
   "cell_type": "code",
   "execution_count": 26,
   "metadata": {},
   "outputs": [
    {
     "name": "stdout",
     "output_type": "stream",
     "text": [
      "All files were checked! ✔\n"
     ]
    }
   ],
   "source": [
    "import validation\n",
    "\n",
    "validation.check(SRC, DST)"
   ]
  },
  {
   "cell_type": "code",
   "execution_count": 27,
   "metadata": {},
   "outputs": [],
   "source": [
    "SRC = '/Users/g4brielvs/Desktop/DATA/lau2/'\n",
    "DST = '/Users/g4brielvs/Desktop/DEST/'"
   ]
  },
  {
   "cell_type": "code",
   "execution_count": 28,
   "metadata": {},
   "outputs": [
    {
     "name": "stdout",
     "output_type": "stream",
     "text": [
      "All files were checked! ✔\n"
     ]
    }
   ],
   "source": [
    "import validation\n",
    "\n",
    "validation.check(SRC, DST)"
   ]
  },
  {
   "cell_type": "code",
   "execution_count": 3,
   "metadata": {},
   "outputs": [
    {
     "name": "stdout",
     "output_type": "stream",
     "text": [
      "All files were checked! ✔\n"
     ]
    }
   ],
   "source": [
    "SRC = '/Users/g4brielvs/Desktop/test/'\n",
    "DST = '/Users/g4brielvs/Desktop/DEST/'\n",
    "\n",
    "import validation\n",
    "validation.check(SRC, DST)"
   ]
  },
  {
   "cell_type": "code",
   "execution_count": null,
   "metadata": {},
   "outputs": [],
   "source": []
  }
 ],
 "metadata": {
  "kernelspec": {
   "display_name": "Python 3",
   "language": "python",
   "name": "python3"
  },
  "language_info": {
   "codemirror_mode": {
    "name": "ipython",
    "version": 3
   },
   "file_extension": ".py",
   "mimetype": "text/x-python",
   "name": "python",
   "nbconvert_exporter": "python",
   "pygments_lexer": "ipython3",
   "version": "3.6.2"
  }
 },
 "nbformat": 4,
 "nbformat_minor": 2
}
