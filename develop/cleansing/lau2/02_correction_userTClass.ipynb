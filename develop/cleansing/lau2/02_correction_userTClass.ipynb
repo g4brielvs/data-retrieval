{
 "cells": [
  {
   "cell_type": "markdown",
   "metadata": {},
   "source": [
    "# lau2"
   ]
  },
  {
   "cell_type": "code",
   "execution_count": 1,
   "metadata": {},
   "outputs": [],
   "source": [
    "import csv\n",
    "import glob\n",
    "import json\n",
    "import os\n",
    "import shutil"
   ]
  },
  {
   "cell_type": "code",
   "execution_count": 2,
   "metadata": {},
   "outputs": [],
   "source": [
    "import pandas as pd\n",
    "\n",
    "def get_column(src, column=1):\n",
    "    return list(pd.read_csv(src, sep=',', header='infer').iloc[:, column])"
   ]
  },
  {
   "cell_type": "code",
   "execution_count": 3,
   "metadata": {},
   "outputs": [],
   "source": [
    "def get_valid_filename(filename):\n",
    "    \"\"\"\n",
    "    Checks and apply corrections in order on tags in filename\n",
    "\n",
    "    Args:\n",
    "        file (str): pathname\n",
    "    \"\"\"\n",
    "\n",
    "    (name, extension) = os.path.splitext(filename)\n",
    "\n",
    "    tags = name.strip().split('_')\n",
    "    tags.insert(5, '00-n')\n",
    "    \n",
    "    return '_'.join(map(str, tags)) + extension"
   ]
  },
  {
   "cell_type": "code",
   "execution_count": 4,
   "metadata": {},
   "outputs": [],
   "source": [
    "def check(src, dst):\n",
    "    \"\"\"\n",
    "    Checks source for filenames and makes a valid copy into destination\n",
    "\n",
    "    Args:\n",
    "        src (str): path to source\n",
    "        dst (str): path to destination\n",
    "    \"\"\"\n",
    "    for pathname in glob.iglob(os.path.join(src, '**/*.csv'), recursive=True):\n",
    "        (dirname, filename) = os.path.split(pathname)\n",
    "\n",
    "        try:\n",
    "            new_filename = get_valid_filename(filename)\n",
    "\n",
    "            new_dst = os.path.join(dst, os.path.basename(dirname))\n",
    "            new_file = os.path.join(new_dst, new_filename)\n",
    "            os.makedirs(new_dst, exist_ok=True)\n",
    "            shutil.copy(pathname, new_file)\n",
    "\n",
    "        except Exception as e:\n",
    "            raise e"
   ]
  },
  {
   "cell_type": "code",
   "execution_count": 5,
   "metadata": {},
   "outputs": [],
   "source": [
    "SRC = '/Users/g4brielvs/Dropbox/Workspace/Names/n_tertiaryData_structure_20180220.csv'\n",
    "\n",
    "NAMES = get_column(SRC)\n",
    "\n",
    "HEADER = ['nameSeq', 'id', 'fullEN', 'shortEN', 'inWritingCZ', 'abrevCZ', 'descriptiveCZ', 'descriptiveEN']"
   ]
  },
  {
   "cell_type": "code",
   "execution_count": 6,
   "metadata": {},
   "outputs": [],
   "source": [
    "SRC = '/Users/g4brielvs/Desktop/DATA/'\n",
    "DST = '/Users/g4brielvs/Desktop/DEST/'\n",
    "\n",
    "check(SRC, DST)"
   ]
  },
  {
   "cell_type": "code",
   "execution_count": null,
   "metadata": {},
   "outputs": [],
   "source": []
  }
 ],
 "metadata": {
  "kernelspec": {
   "display_name": "Python 3",
   "language": "python",
   "name": "python3"
  },
  "language_info": {
   "codemirror_mode": {
    "name": "ipython",
    "version": 3
   },
   "file_extension": ".py",
   "mimetype": "text/x-python",
   "name": "python",
   "nbconvert_exporter": "python",
   "pygments_lexer": "ipython3",
   "version": "3.6.2"
  }
 },
 "nbformat": 4,
 "nbformat_minor": 2
}
