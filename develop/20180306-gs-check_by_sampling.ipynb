{
 "cells": [
  {
   "cell_type": "code",
   "execution_count": 4,
   "metadata": {},
   "outputs": [],
   "source": [
    "import os \n",
    "import glob "
   ]
  },
  {
   "cell_type": "markdown",
   "metadata": {},
   "source": [
    "# Mobility Data Retrieval"
   ]
  },
  {
   "cell_type": "markdown",
   "metadata": {},
   "source": [
    "This scripts gets randmly 2 rows from every file and combines them into a dataframe"
   ]
  },
  {
   "cell_type": "code",
   "execution_count": 7,
   "metadata": {},
   "outputs": [],
   "source": [
    "SRC_HEADER = '/Users/g4brielvs/Dropbox/Workspace/DATA_2017/z_head_day_cz_20170804.csv'\n",
    "\n",
    "SRC = '/Users/g4brielvs/Desktop/RESULTS/'"
   ]
  },
  {
   "cell_type": "markdown",
   "metadata": {},
   "source": [
    "## Reading headers and transformations"
   ]
  },
  {
   "cell_type": "code",
   "execution_count": 23,
   "metadata": {},
   "outputs": [],
   "source": [
    "def get_header(src):\n",
    "    \"\"\"\n",
    "    Creates a lists of columns from a file\n",
    "\n",
    "    Args:\n",
    "        src (str): path of source\n",
    "    \"\"\"\n",
    "    with open(src, mode='r') as f:\n",
    "        content = f.readline()\n",
    "        return content.strip().split(sep=';')\n",
    "    \n",
    "HEADER = get_header(SRC_HEADER)"
   ]
  },
  {
   "cell_type": "code",
   "execution_count": 17,
   "metadata": {},
   "outputs": [],
   "source": [
    "import pandas as pd\n",
    "\n",
    "for pathname in glob.iglob(os.path.join(SRC, '**/*.csv'), recursive=True):\n",
    "        (dirname, filename) = os.path.split(pathname)\n",
    "\n",
    "        df = pd.read_csv(pathname, sep=',', header='infer')\n",
    "        \n",
    "        df.to_csv(pathname, sep=',', header=False, index=False, encoding='utf-8', date_format='%Y-%m-%d')"
   ]
  },
  {
   "cell_type": "markdown",
   "metadata": {},
   "source": [
    "## Creating a dataframe"
   ]
  },
  {
   "cell_type": "markdown",
   "metadata": {},
   "source": [
    "This scripts creates a sample taking ramdomly 2 rows for each file"
   ]
  },
  {
   "cell_type": "code",
   "execution_count": 24,
   "metadata": {},
   "outputs": [],
   "source": [
    "import pandas as pd\n",
    "\n",
    "s = pd.DataFrame()\n",
    "\n",
    "for pathname in glob.iglob(os.path.join(SRC, '**/*.csv'), recursive=True):\n",
    "        (dirname, filename) = os.path.split(pathname)\n",
    "\n",
    "        df = pd.read_csv(pathname, sep=',', header=None, names=HEADER)\n",
    "        \n",
    "        s = s.append(df.sample(2), ignore_index=True)"
   ]
  },
  {
   "cell_type": "code",
   "execution_count": 25,
   "metadata": {},
   "outputs": [],
   "source": [
    "s.to_csv('sample.csv', sep=',', header=True, index=False, encoding='utf-8', date_format='%Y-%m-%d')"
   ]
  },
  {
   "cell_type": "code",
   "execution_count": null,
   "metadata": {},
   "outputs": [],
   "source": []
  }
 ],
 "metadata": {
  "kernelspec": {
   "display_name": "Python 3",
   "language": "python",
   "name": "python3"
  },
  "language_info": {
   "codemirror_mode": {
    "name": "ipython",
    "version": 3
   },
   "file_extension": ".py",
   "mimetype": "text/x-python",
   "name": "python",
   "nbconvert_exporter": "python",
   "pygments_lexer": "ipython3",
   "version": "3.6.2"
  }
 },
 "nbformat": 4,
 "nbformat_minor": 2
}
