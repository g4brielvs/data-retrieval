{
 "cells": [
  {
   "cell_type": "markdown",
   "metadata": {},
   "source": [
    "## Renaming to prefix tags "
   ]
  },
  {
   "cell_type": "markdown",
   "metadata": {},
   "source": [
    "Taxonomy represents the formal structure of classes or types of objects within a domain of IT4 Big Data Lab information processing. "
   ]
  },
  {
   "cell_type": "markdown",
   "metadata": {},
   "source": [
    "It organizes knowledge by using a controlled vocabulary to make it possible to find related information."
   ]
  },
  {
   "cell_type": "code",
   "execution_count": 2,
   "metadata": {},
   "outputs": [],
   "source": [
    "import glob\n",
    "import json \n",
    "import os\n",
    "import shutil\n",
    "\n",
    "import pandas as pd\n",
    "\n",
    "from collections import OrderedDict"
   ]
  },
  {
   "cell_type": "code",
   "execution_count": 3,
   "metadata": {},
   "outputs": [],
   "source": [
    "def get_column(src, column=1):\n",
    "    return list(pd.read_csv(src, sep=',', header='infer', converters={'intID': lambda x: str(x)}, encoding='cp1252').iloc[:, column])\n",
    "\n",
    "def get_header(src):\n",
    "    df = pd.read_csv(src, sep=',', header='infer', encoding='cp1252')\n",
    "    return list(df.columns.values)"
   ]
  },
  {
   "cell_type": "code",
   "execution_count": 4,
   "metadata": {},
   "outputs": [
    {
     "data": {
      "text/plain": [
       "['dataSource',\n",
       " 'graphType',\n",
       " 'graphDetail',\n",
       " 'spacialAggregation',\n",
       " 'temporalAggregation',\n",
       " 'userTclass',\n",
       " 'trajectoryTimeDefinitionPoint',\n",
       " 'fixedRoute',\n",
       " 'calculationMethod',\n",
       " 'statistics',\n",
       " 'statisticsDetail',\n",
       " 'transportMode',\n",
       " 'demographyGender',\n",
       " 'demographyAge',\n",
       " 'dataDetail',\n",
       " 'controlSum']"
      ]
     },
     "execution_count": 4,
     "metadata": {},
     "output_type": "execute_result"
    }
   ],
   "source": [
    "SRC = '/Users/g4brielvs/Dropbox/Workspace/Names/n_tertiaryData_structure_20180220.csv'\n",
    "\n",
    "NAMES = get_column(SRC, 1)\n",
    "NAMES"
   ]
  },
  {
   "cell_type": "markdown",
   "metadata": {},
   "source": [
    "## New renaming"
   ]
  },
  {
   "cell_type": "code",
   "execution_count": 5,
   "metadata": {},
   "outputs": [],
   "source": [
    "DST = '/Users/g4brielvs/Desktop/DEST/'\n",
    "\n",
    "def rename(src, prefix):\n",
    "    \"\"\"\n",
    "    Checks source for filenames and makes a valid copy into destination\n",
    "\n",
    "    Args:\n",
    "        src (str): path to source\n",
    "        dst (str): path to destination\n",
    "    \"\"\"\n",
    "    for pathname in glob.iglob(os.path.join(src, '**/*.csv'), recursive=True):\n",
    "        (dirname, filename) = os.path.split(pathname)\n",
    "        (name, extension) = os.path.splitext(filename)\n",
    "\n",
    "        tags_in_filename = name.strip().split('_')\n",
    "        tags = list()\n",
    "        \n",
    "        for i, item in enumerate(NAMES):\n",
    "            item = tags_in_filename[i]\n",
    "            new_item = '{}-{}'.format(i + 4, item[2:])\n",
    "            tags.append(new_item)\n",
    "                    \n",
    "        new_filename = '{}-{}{}'.format(prefix, '_'.join(map(str, tags)), extension)\n",
    "        new_file = os.path.join(DST, new_filename)\n",
    "        os.makedirs(DST, exist_ok=True)\n",
    "        \n",
    "        shutil.copy(pathname, new_file)"
   ]
  },
  {
   "cell_type": "markdown",
   "metadata": {},
   "source": [
    "## Validation"
   ]
  },
  {
   "cell_type": "code",
   "execution_count": 32,
   "metadata": {},
   "outputs": [],
   "source": [
    "SRC = '/Users/g4brielvs/Desktop/1-00-nr_2-50-COM_3-01-L1/'\n",
    "\n",
    "rename(SRC, '1-00-nr_2-50-COM_3-01-L1')"
   ]
  },
  {
   "cell_type": "code",
   "execution_count": 33,
   "metadata": {},
   "outputs": [],
   "source": [
    "SRC = '/Users/g4brielvs/Desktop/1-33-ter_2-04-TACSU_3-01-L1/'\n",
    "\n",
    "rename(SRC, '1-33-ter_2-04-TACSU_3-01-L1')"
   ]
  },
  {
   "cell_type": "code",
   "execution_count": 34,
   "metadata": {},
   "outputs": [],
   "source": [
    "SRC = '/Users/g4brielvs/Desktop/1-33-ter_2-04-TACSU_3-02-L2/'\n",
    "\n",
    "rename(SRC, '1-33-ter_2-04-TACSU_3-02-L2')"
   ]
  },
  {
   "cell_type": "markdown",
   "metadata": {},
   "source": [
    "## Content"
   ]
  },
  {
   "cell_type": "code",
   "execution_count": 7,
   "metadata": {},
   "outputs": [],
   "source": [
    "SRC = '/Users/g4brielvs/Desktop/DATA/'\n",
    "DST = '/Users/g4brielvs/Desktop/DEST/'\n",
    "\n",
    "drop_columns = ['RO2ID','RO2PORADI','RELACENAZEV','DENNAZEV','ROD1PORADINAZEV','RO2NAZEV','HODINANAZEV']\n",
    "\n",
    "for pathname in glob.iglob(os.path.join(SRC, '**/*.csv'), recursive=True):\n",
    "        (dirname, filename) = os.path.split(pathname)\n",
    "\n",
    "        df = pd.read_csv(pathname, sep=',', header=0)\n",
    "         \n",
    "        df['fileName'] = 'N'    \n",
    "            \n",
    "        # Drop columns\n",
    "        df = df.drop(drop_columns, axis=1)\n",
    "        \n",
    "        df.to_csv(os.path.join(DST, filename), sep=',', header=False, index=False, encoding='utf-8')"
   ]
  },
  {
   "cell_type": "code",
   "execution_count": null,
   "metadata": {},
   "outputs": [],
   "source": []
  }
 ],
 "metadata": {
  "kernelspec": {
   "display_name": "Python 3",
   "language": "python",
   "name": "python3"
  },
  "language_info": {
   "codemirror_mode": {
    "name": "ipython",
    "version": 3
   },
   "file_extension": ".py",
   "mimetype": "text/x-python",
   "name": "python",
   "nbconvert_exporter": "python",
   "pygments_lexer": "ipython3",
   "version": "3.6.2"
  }
 },
 "nbformat": 4,
 "nbformat_minor": 2
}
