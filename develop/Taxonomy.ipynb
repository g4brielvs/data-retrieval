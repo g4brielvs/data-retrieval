{
 "cells": [
  {
   "cell_type": "markdown",
   "metadata": {},
   "source": [
    "# Taxonomy"
   ]
  },
  {
   "cell_type": "markdown",
   "metadata": {},
   "source": [
    "The first step of the script is creating a JSON to keep the taxonomy centralized and up-to-date."
   ]
  },
  {
   "cell_type": "code",
   "execution_count": 1,
   "metadata": {},
   "outputs": [],
   "source": [
    "import json \n",
    "\n",
    "import pandas as pd\n",
    "\n",
    "from collections import OrderedDict"
   ]
  },
  {
   "cell_type": "code",
   "execution_count": 16,
   "metadata": {},
   "outputs": [],
   "source": [
    "def get_column(src, column=1):\n",
    "    return list(pd.read_csv(src, sep=',', header='infer').iloc[:, column])"
   ]
  },
  {
   "cell_type": "code",
   "execution_count": 17,
   "metadata": {},
   "outputs": [],
   "source": [
    "HEADER = ['nameSeq', 'id', 'fullEN', 'shortEN', 'inWritingCZ', 'abrevCZ', 'descriptiveCZ', 'descriptiveEN']"
   ]
  },
  {
   "cell_type": "code",
   "execution_count": 28,
   "metadata": {},
   "outputs": [],
   "source": [
    "def filter_taxonomy(data=dict(), names={}):   \n",
    "    \"\"\"\n",
    "    Filter taxonomy using tag names\n",
    "\n",
    "    Args:\n",
    "        data (dict): taxonomy\n",
    "    \"\"\"\n",
    "    return dict(filter(lambda i:i[1].get('nameSeq') in names, data.items()))\n",
    "\n",
    "def get_tags_from_taxonomy(data=dict()):\n",
    "    \"\"\"\n",
    "    Get list of tags from taxonomy\n",
    "\n",
    "    Args:\n",
    "        data (dict): taxonomy\n",
    "    \"\"\"\n",
    "    return list(data.keys())\n",
    "\n",
    "def get_text_from_taxonomy(data=dict(), tag=None, descriptor='id'):\n",
    "    return data.get(tag).get(descriptor)    "
   ]
  },
  {
   "cell_type": "code",
   "execution_count": null,
   "metadata": {},
   "outputs": [],
   "source": [
    "SRC = '/Users/g4brielvs/Desktop/drive-download-20180221T143422Z-001/n_tertiaryData_content_20180220.csv'\n",
    "\n",
    "d = OrderedDict()\n",
    "\n",
    "for i, tag in enumerate(tags):    \n",
    "    \n",
    "    df = pd.read_csv(SRC, sep=',')\n",
    "    df\n",
    "    c = df[(df['nameSeq'] == i)]\n",
    "    for _, row in c.iterrows():\n",
    "        print(row['id'])"
   ]
  },
  {
   "cell_type": "code",
   "execution_count": 7,
   "metadata": {},
   "outputs": [],
   "source": [
    "SRC = '/Users/g4brielvs/Desktop/drive-download-20180221T143422Z-001/n_tertiaryData_content_20180220.csv'\n",
    "\n",
    "data = OrderedDict()\n",
    "\n",
    "df = pd.read_csv(SRC, sep=',')\n",
    "\n",
    "for _, row in df.iterrows():    \n",
    "    tags[row['id']] = OrderedDict(((i, row[i]) for i in HEADER))"
   ]
  },
  {
   "cell_type": "code",
   "execution_count": null,
   "metadata": {},
   "outputs": [],
   "source": [
    "try:\n",
    "    with open('taxonomy.json', mode='w+', encoding='utf-8') as f:\n",
    "        json.dump(data, f)\n",
    "        print('Tags successfully exported! \\u2714')\n",
    "except Exception as e:\n",
    "    raise e"
   ]
  },
  {
   "cell_type": "code",
   "execution_count": 18,
   "metadata": {},
   "outputs": [],
   "source": [
    "with open('taxonomy.json') as f:\n",
    "    data = json.load(f, object_pairs_hook=OrderedDict)"
   ]
  },
  {
   "cell_type": "code",
   "execution_count": 19,
   "metadata": {},
   "outputs": [
    {
     "name": "stdout",
     "output_type": "stream",
     "text": [
      "('0100-nr', OrderedDict([('nameSeq', 1), ('id', '0100-nr'), ('fullEN', 'NotRelevant'), ('shortEN', 'nr'), ('inWritingCZ', 'Nerelevantní'), ('abrevCZ', 'nr'), ('descriptiveCZ', 'Není relevantní pro výpočet'), ('descriptiveEN', ' či proměnnou')]))\n"
     ]
    }
   ],
   "source": [
    "from itertools import islice\n",
    "print(next(islice(data.items(), 0, None)))"
   ]
  },
  {
   "cell_type": "code",
   "execution_count": 24,
   "metadata": {},
   "outputs": [
    {
     "data": {
      "text/plain": [
       "['0100-nr',\n",
       " '0199-na',\n",
       " '0101-cso',\n",
       " '0102-o2',\n",
       " '0103-cd',\n",
       " '0200-nr',\n",
       " '0299-na',\n",
       " '0201-ver',\n",
       " '0202-edg',\n",
       " '0300-nr',\n",
       " '0399-na',\n",
       " '0301-pop',\n",
       " '0302-vis',\n",
       " '0303-tour',\n",
       " '0304-pot',\n",
       " '0305-get',\n",
       " '0306-occ',\n",
       " '0307-cap',\n",
       " '0400-nr',\n",
       " '0499-na',\n",
       " '0401-stop',\n",
       " '0402-lru',\n",
       " '0403-lau2',\n",
       " '0404-cells',\n",
       " '0405-adm',\n",
       " '0406-fun',\n",
       " '0500-nr',\n",
       " '0599-na',\n",
       " '0501-qrt',\n",
       " '0502-hr',\n",
       " '0503-ngt',\n",
       " '0504-mor',\n",
       " '0505-aft',\n",
       " '0506-evn',\n",
       " '0507-day',\n",
       " '0508-wk',\n",
       " '0509-mth',\n",
       " '0510-ses',\n",
       " '0511-yr',\n",
       " '0600-nr',\n",
       " '0699-na',\n",
       " '0601-all',\n",
       " '0602-res',\n",
       " '0603-noc',\n",
       " '0604-outc',\n",
       " '0605-inc',\n",
       " '0606-res03',\n",
       " '0607-noc03',\n",
       " '0608-outc03',\n",
       " '0609-inc11',\n",
       " '0610-res00',\n",
       " '0611-outc00',\n",
       " '0700-nr',\n",
       " '0799-na',\n",
       " '0700-mom',\n",
       " '0701-15lm',\n",
       " '0702-60lm',\n",
       " '0703-180lm',\n",
       " '0704-300lm',\n",
       " '0705-300pm',\n",
       " '0800-nr',\n",
       " '0899-na',\n",
       " '0801-1001',\n",
       " '0802-1002',\n",
       " '0803-1003',\n",
       " '0804-1004',\n",
       " '0805-1005',\n",
       " '0806-1006',\n",
       " '0807-1007',\n",
       " '0808-1008',\n",
       " '0900-nr',\n",
       " '0999-na',\n",
       " '0901-sng',\n",
       " '0902-uni',\n",
       " '0903-rep',\n",
       " '1000-nr',\n",
       " '1099-na',\n",
       " '1001-mea',\n",
       " '1002-med',\n",
       " '1100-nr',\n",
       " '1199-na',\n",
       " '1101-all',\n",
       " '1102-tuth',\n",
       " '1103-sasu',\n",
       " '1200-nr',\n",
       " '1299-na',\n",
       " '1201-car',\n",
       " '1202-rail',\n",
       " '1203-bus',\n",
       " '1500-nr',\n",
       " '1599-na',\n",
       " '1501-cso11',\n",
       " '1502-cd1q2014']"
      ]
     },
     "execution_count": 24,
     "metadata": {},
     "output_type": "execute_result"
    }
   ],
   "source": [
    "get_tags_from_taxonomy(data)"
   ]
  },
  {
   "cell_type": "code",
   "execution_count": null,
   "metadata": {},
   "outputs": [],
   "source": []
  },
  {
   "cell_type": "code",
   "execution_count": null,
   "metadata": {},
   "outputs": [],
   "source": []
  }
 ],
 "metadata": {
  "kernelspec": {
   "display_name": "Python 3",
   "language": "python",
   "name": "python3"
  },
  "language_info": {
   "codemirror_mode": {
    "name": "ipython",
    "version": 3
   },
   "file_extension": ".py",
   "mimetype": "text/x-python",
   "name": "python",
   "nbconvert_exporter": "python",
   "pygments_lexer": "ipython3",
   "version": "3.6.2"
  }
 },
 "nbformat": 4,
 "nbformat_minor": 2
}
