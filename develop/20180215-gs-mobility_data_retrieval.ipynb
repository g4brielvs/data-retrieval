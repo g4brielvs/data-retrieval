{
 "cells": [
  {
   "cell_type": "code",
   "execution_count": 2,
   "metadata": {},
   "outputs": [],
   "source": [
    "import os \n",
    "\n",
    "import glob \n",
    "import pandas as pd\n",
    "\n",
    "from openpyxl.utils.datetime import from_excel"
   ]
  },
  {
   "cell_type": "markdown",
   "metadata": {},
   "source": [
    "# Mobility Data Retrieval"
   ]
  },
  {
   "cell_type": "markdown",
   "metadata": {},
   "source": [
    "This script receives a src directory file and checks for correct tags in filenames. Also it makes corrections in the content of the files"
   ]
  },
  {
   "cell_type": "code",
   "execution_count": 1,
   "metadata": {},
   "outputs": [],
   "source": [
    "SRC_HEADER = '/Users/g4brielvs/Dropbox/Workspace/DATA_2017/z_head_day_cz_20170804.csv'\n",
    "\n",
    "SRC = '/Users/g4brielvs/Desktop/FINAL/'\n",
    "DST = '/Users/g4brielvs/Desktop/RESULTS/'\n",
    "\n",
    "DAYS_ANONYM = 'days_anonym.csv' \n",
    "N_LAU2_NAMES7 = 'N_LAU2_NAMES7.csv'"
   ]
  },
  {
   "cell_type": "markdown",
   "metadata": {},
   "source": [
    "## Changing filenames using default tags"
   ]
  },
  {
   "cell_type": "markdown",
   "metadata": {},
   "source": [
    "Checks and makes a copy validating with default tags from **tags.json** file"
   ]
  },
  {
   "cell_type": "markdown",
   "metadata": {},
   "source": [
    "## Reading headers and transformations"
   ]
  },
  {
   "cell_type": "code",
   "execution_count": 3,
   "metadata": {},
   "outputs": [],
   "source": [
    "def get_header(src):\n",
    "    \"\"\"\n",
    "    Creates a lists of columns from a file\n",
    "\n",
    "    Args:\n",
    "        src (str): path of source\n",
    "    \"\"\"\n",
    "    with open(src, mode='r') as f:\n",
    "        content = f.readline()\n",
    "        return content.strip().split(sep=';')\n",
    "    \n",
    "header = get_header(SRC_HEADER)"
   ]
  },
  {
   "cell_type": "markdown",
   "metadata": {},
   "source": [
    "## Applying transformation on the dataframes"
   ]
  },
  {
   "cell_type": "code",
   "execution_count": null,
   "metadata": {},
   "outputs": [],
   "source": [
    "for pathname in glob.iglob(os.path.join(SRC, '**/*.csv'), recursive=True):\n",
    "        (dirname, filename) = os.path.split(pathname)\n",
    "\n",
    "        df = pd.read_csv(pathname, sep=',', header=None, names=header)\n",
    "        \n",
    "        #df = df.rename(columns = {0:'fileName'})\n",
    "        df['fileName'] = 'N'\n",
    "        \n",
    "        #df = df.rename(columns = {3:'DENID'})\n",
    "        #df['DENID'] = df['DENID'].apply(pd.to_numeric, args=('coerce',))\n",
    "        #df['DENID'] = df['DENID'].dropna().apply(lambda x: from_excel(x))\n",
    "        \n",
    "        #df['DENNAZEV'].replace(r, inplace=True)\n",
    "        \n",
    "        df.to_csv(os.path.join(DST, filename), sep=',', header=False, index=False, encoding='utf-8', date_format='%Y-%m-%d')"
   ]
  },
  {
   "cell_type": "code",
   "execution_count": null,
   "metadata": {},
   "outputs": [],
   "source": []
  }
 ],
 "metadata": {
  "kernelspec": {
   "display_name": "Python 3",
   "language": "python",
   "name": "python3"
  },
  "language_info": {
   "codemirror_mode": {
    "name": "ipython",
    "version": 3
   },
   "file_extension": ".py",
   "mimetype": "text/x-python",
   "name": "python",
   "nbconvert_exporter": "python",
   "pygments_lexer": "ipython3",
   "version": "3.6.2"
  }
 },
 "nbformat": 4,
 "nbformat_minor": 2
}
