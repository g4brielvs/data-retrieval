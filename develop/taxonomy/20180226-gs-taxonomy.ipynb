{
 "cells": [
  {
   "cell_type": "markdown",
   "metadata": {},
   "source": [
    "# Taxonomy"
   ]
  },
  {
   "cell_type": "markdown",
   "metadata": {},
   "source": [
    "The first step of the script is creating a JSON to keep the taxonomy centralized and up-to-date."
   ]
  },
  {
   "cell_type": "code",
   "execution_count": 1,
   "metadata": {},
   "outputs": [],
   "source": [
    "import json \n",
    "\n",
    "import pandas as pd\n",
    "\n",
    "from collections import OrderedDict"
   ]
  },
  {
   "cell_type": "code",
   "execution_count": 13,
   "metadata": {},
   "outputs": [],
   "source": [
    "def get_column(src, column=1):\n",
    "    return list(pd.read_csv(src, sep=',', header='infer').iloc[:, column])\n",
    "\n",
    "SRC = '/Users/g4brielvs/Desktop/drive-download-20180221T143422Z-001/n_tertiaryData_structure_20180220.csv'\n",
    "\n",
    "C = get_column(SRC)"
   ]
  },
  {
   "cell_type": "code",
   "execution_count": 2,
   "metadata": {},
   "outputs": [],
   "source": [
    "HEADER = ['nameSeq', 'id', 'fullEN', 'shortEN', 'inWritingCZ', 'abrevCZ', 'descriptiveCZ', 'descriptiveEN']"
   ]
  },
  {
   "cell_type": "code",
   "execution_count": 3,
   "metadata": {},
   "outputs": [],
   "source": [
    "def filter_taxonomy(data=dict(), names={}):   \n",
    "    \"\"\"\n",
    "    Filter taxonomy using tag names\n",
    "\n",
    "    Args:\n",
    "        data (dict): taxonomy\n",
    "    \"\"\"\n",
    "    return dict(filter(lambda i:i[1].get('nameSeq') in names, data.items()))\n",
    "\n",
    "def get_tags_from_taxonomy(data=dict()):\n",
    "    \"\"\"\n",
    "    Get list of tags from taxonomy\n",
    "\n",
    "    Args:\n",
    "        data (dict): taxonomy\n",
    "    \"\"\"\n",
    "    return list(data.keys())\n",
    "\n",
    "def get_text_from_taxonomy(data=dict(), tag=None, descriptor='id'):\n",
    "    return data.get(tag).get(descriptor)    "
   ]
  },
  {
   "cell_type": "code",
   "execution_count": null,
   "metadata": {},
   "outputs": [],
   "source": [
    "SRC = '/Users/g4brielvs/Desktop/drive-download-20180221T143422Z-001/n_tertiaryData_content_20180220.csv'\n",
    "\n",
    "d = OrderedDict()\n",
    "\n",
    "for i, tag in enumerate(tags):    \n",
    "    \n",
    "    df = pd.read_csv(SRC, sep=',')\n",
    "    df\n",
    "    c = df[(df['nameSeq'] == i)]\n",
    "    for _, row in c.iterrows():\n",
    "        print(row['id'])"
   ]
  },
  {
   "cell_type": "code",
   "execution_count": 4,
   "metadata": {},
   "outputs": [],
   "source": [
    "SRC = '/Users/g4brielvs/Desktop/drive-download-20180221T143422Z-001/n_tertiaryData_content_20180220.csv'\n",
    "\n",
    "data = OrderedDict()\n",
    "\n",
    "df = pd.read_csv(SRC, sep=',')\n",
    "\n",
    "for _, row in df.iterrows():    \n",
    "    data[row['id']] = OrderedDict(((i, row[i]) for i in HEADER))"
   ]
  },
  {
   "cell_type": "code",
   "execution_count": null,
   "metadata": {},
   "outputs": [],
   "source": [
    "try:\n",
    "    with open('taxonomy.json', mode='w+', encoding='utf-8') as f:\n",
    "        json.dump(data, f)\n",
    "        print('Tags successfully exported! \\u2714')\n",
    "except Exception as e:\n",
    "    raise e"
   ]
  },
  {
   "cell_type": "code",
   "execution_count": 6,
   "metadata": {},
   "outputs": [],
   "source": [
    "with open('taxonomy.json') as f:\n",
    "    data = json.load(f, object_pairs_hook=OrderedDict)"
   ]
  },
  {
   "cell_type": "code",
   "execution_count": 19,
   "metadata": {},
   "outputs": [
    {
     "name": "stdout",
     "output_type": "stream",
     "text": [
      "('0100-nr', OrderedDict([('nameSeq', 1), ('id', '0100-nr'), ('fullEN', 'NotRelevant'), ('shortEN', 'nr'), ('inWritingCZ', 'Nerelevantní'), ('abrevCZ', 'nr'), ('descriptiveCZ', 'Není relevantní pro výpočet'), ('descriptiveEN', ' či proměnnou')]))\n"
     ]
    }
   ],
   "source": [
    "from itertools import islice\n",
    "print(next(islice(data.items(), 0, None)))"
   ]
  },
  {
   "cell_type": "code",
   "execution_count": 23,
   "metadata": {},
   "outputs": [],
   "source": [
    "d = OrderedDict()\n",
    "\n",
    "for i, v in enumerate(C, 1):\n",
    "        \n",
    "    l = get_tags_from_taxonomy(filter_taxonomy(data, {i}))\n",
    "    d[v] = OrderedDict(zip(map(lambda x: x[-4:], l), l))"
   ]
  },
  {
   "cell_type": "code",
   "execution_count": 25,
   "metadata": {},
   "outputs": [],
   "source": [
    "import json \n",
    "\n",
    "with open('corrections.json', mode='w+', encoding='utf-8') as f:\n",
    "    json.dump(d, f)"
   ]
  },
  {
   "cell_type": "code",
   "execution_count": 26,
   "metadata": {},
   "outputs": [],
   "source": [
    "d = OrderedDict()\n",
    "\n",
    "for i, v in enumerate(C, 1):\n",
    "        \n",
    "    l = get_tags_from_taxonomy(filter_taxonomy(data, {i}))\n",
    "    d[v] = l"
   ]
  },
  {
   "cell_type": "code",
   "execution_count": 28,
   "metadata": {},
   "outputs": [],
   "source": [
    "import json \n",
    "\n",
    "with open('tags.json', mode='w+', encoding='utf-8') as f:\n",
    "    json.dump(d, f)"
   ]
  }
 ],
 "metadata": {
  "kernelspec": {
   "display_name": "Python 3",
   "language": "python",
   "name": "python3"
  },
  "language_info": {
   "codemirror_mode": {
    "name": "ipython",
    "version": 3
   },
   "file_extension": ".py",
   "mimetype": "text/x-python",
   "name": "python",
   "nbconvert_exporter": "python",
   "pygments_lexer": "ipython3",
   "version": "3.6.2"
  }
 },
 "nbformat": 4,
 "nbformat_minor": 2
}
